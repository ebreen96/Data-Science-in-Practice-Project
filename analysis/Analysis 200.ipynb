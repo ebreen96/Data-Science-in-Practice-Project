{
 "cells": [
  {
   "cell_type": "markdown",
   "metadata": {},
   "source": [
    "# Analysis 200\n",
    "## Purpose\n",
    "* This notebook will continue the analysis portion of our project.\n",
    "* Our analysis into our first Research Question, 'How has the game of tennis developed since 1968?', is continued in this notebook."
   ]
  },
  {
   "cell_type": "markdown",
   "metadata": {},
   "source": [
    "## Datasets\n",
    "* atp_main, atp_small. All of these dataframes have been saved as CSVs in a 'source' folder."
   ]
  },
  {
   "cell_type": "code",
   "execution_count": 1,
   "metadata": {
    "collapsed": true
   },
   "outputs": [],
   "source": [
    "# Importing relevant libraries\n",
    "import os\n",
    "import sys\n",
    "import hashlib\n",
    "import numpy as np\n",
    "import pandas as pd\n",
    "import matplotlib\n",
    "import matplotlib.pylab as plt\n",
    "import matplotlib.patches as mpatches\n",
    "    \n",
    "%matplotlib inline"
   ]
  },
  {
   "cell_type": "code",
   "execution_count": 2,
   "metadata": {},
   "outputs": [
    {
     "name": "stdout",
     "output_type": "stream",
     "text": [
      "Success!\n"
     ]
    }
   ],
   "source": [
    "if not os.path.exists( \"../data/atp_main\" ):\n",
    "    print(\"Missing project!\")\n",
    "print(\"Success!\")"
   ]
  },
  {
   "cell_type": "code",
   "execution_count": 3,
   "metadata": {
    "collapsed": true
   },
   "outputs": [],
   "source": [
    "# Open and read these three dataframes\n",
    "atp_main = pd.read_csv(\"../data/atp_main\", low_memory = False, index_col = 'tourney_date')"
   ]
  },
  {
   "cell_type": "code",
   "execution_count": 4,
   "metadata": {
    "collapsed": true
   },
   "outputs": [],
   "source": [
    "atp_main.index = pd.to_datetime(atp_main.index, format=\"%Y-%m-%d\", errors='coerce')"
   ]
  },
  {
   "cell_type": "code",
   "execution_count": 5,
   "metadata": {
    "collapsed": true
   },
   "outputs": [],
   "source": [
    "atp_small = pd.read_csv(\"../data/atp_small\", low_memory = False)"
   ]
  },
  {
   "cell_type": "markdown",
   "metadata": {},
   "source": [
    "## The Ace\n",
    "* The Ace in tennis occurs when a player is unable to touch or hit the ball that has been served to them. This could be due to the speed of the ball being too quick or because it bounces at an angle that makes it impossible to reach.\n",
    "* The outcome of an ace is that the server wins the point.\n",
    "* A strong server will pick up many aces in a match and will make it very hard for the opponent to win any of these points.\n",
    "* Where do aces occur and what kind of player typically hits an ace?"
   ]
  },
  {
   "cell_type": "code",
   "execution_count": 6,
   "metadata": {},
   "outputs": [
    {
     "data": {
      "text/plain": [
       "Text(0.5,1,'Histogram showing distribution of aces 1990-2015')"
      ]
     },
     "execution_count": 6,
     "metadata": {},
     "output_type": "execute_result"
    },
    {
     "data": {
      "image/png": "[encoded data removed]",
      "text/plain": [
       "<matplotlib.figure.Figure at 0x2afb04ad7f0>"
      ]
     },
     "metadata": {},
     "output_type": "display_data"
    }
   ],
   "source": [
    "atp_main['w_ace'].hist(bins=40, range=(1,40), figsize = (10,5))\n",
    "plt.xlabel('Aces', fontsize=20)\n",
    "plt.ylabel('Frequency of players', fontsize=20)\n",
    "plt.grid(True)\n",
    "plt.title('Histogram showing distribution of aces 1990-2015', fontsize=15)"
   ]
  },
  {
   "cell_type": "markdown",
   "metadata": {},
   "source": [
    "* Typically, most players hit between 1 and 6 aces per match, on average. But what surface do they hit them the most? Who hits them most often?"
   ]
  },
  {
   "cell_type": "markdown",
   "metadata": {},
   "source": [
    "### Surface and the ace"
   ]
  },
  {
   "cell_type": "code",
   "execution_count": 7,
   "metadata": {
    "collapsed": true
   },
   "outputs": [],
   "source": [
    "# creating smaller dataframe for 90's so its easier to call upon this decade for comparison\n",
    "early_years = atp_main['1990':'2000']"
   ]
  },
  {
   "cell_type": "code",
   "execution_count": 8,
   "metadata": {
    "collapsed": true
   },
   "outputs": [],
   "source": [
    "# creating smaller 00's dataframe\n",
    "later_years = atp_main['2005':'2015']"
   ]
  },
  {
   "cell_type": "code",
   "execution_count": 9,
   "metadata": {},
   "outputs": [
    {
     "data": {
      "text/plain": [
       "surface\n",
       "Carpet    34617.0\n",
       "Clay      42362.0\n",
       "Grass     24604.0\n",
       "Hard      86194.0\n",
       "Name: w_ace, dtype: float64"
      ]
     },
     "execution_count": 9,
     "metadata": {},
     "output_type": "execute_result"
    }
   ],
   "source": [
    "early_years.groupby('surface')['w_ace'].sum()"
   ]
  },
  {
   "cell_type": "code",
   "execution_count": 10,
   "metadata": {},
   "outputs": [
    {
     "data": {
      "text/plain": [
       "surface\n",
       "Carpet      4728.0\n",
       "Clay       44736.0\n",
       "Grass      33685.0\n",
       "Hard      124016.0\n",
       "Name: w_ace, dtype: float64"
      ]
     },
     "execution_count": 10,
     "metadata": {},
     "output_type": "execute_result"
    }
   ],
   "source": [
    "later_years.groupby('surface')['w_ace'].sum()"
   ]
  },
  {
   "cell_type": "markdown",
   "metadata": {},
   "source": [
    "* This result above shows that aces are more common on Hard Court surfaces for both the 90s and the 00s but delving into the data proves that this is false. See Results RQ1"
   ]
  },
  {
   "cell_type": "code",
   "execution_count": 11,
   "metadata": {},
   "outputs": [
    {
     "data": {
      "text/plain": [
       "surface\n",
       "Carpet    0.639370\n",
       "Clay      0.770728\n",
       "Grass     0.618717\n",
       "Hard      0.626964\n",
       "Name: w_ace, dtype: float64"
      ]
     },
     "execution_count": 11,
     "metadata": {},
     "output_type": "execute_result"
    }
   ],
   "source": [
    "early_years.groupby(['surface'])['w_ace'].std()/atp_small.groupby(['surface'])['w_ace'].mean()"
   ]
  },
  {
   "cell_type": "code",
   "execution_count": 12,
   "metadata": {},
   "outputs": [
    {
     "data": {
      "text/plain": [
       "surface\n",
       "Carpet    0.674115\n",
       "Clay      0.866454\n",
       "Grass     0.736682\n",
       "Hard      0.731442\n",
       "Name: w_ace, dtype: float64"
      ]
     },
     "execution_count": 12,
     "metadata": {},
     "output_type": "execute_result"
    }
   ],
   "source": [
    "later_years.groupby(['surface'])['w_ace'].std()/atp_small.groupby(['surface'])['w_ace'].mean()"
   ]
  },
  {
   "cell_type": "markdown",
   "metadata": {},
   "source": [
    "* The calculation above is the Coefficient of Variation (CV). It describes the variability of a sample relative to its mean.\n",
    "* In this example I have used it in comparing the variability of aces by a winning player per the surface. This is showing that although aces are much more prominent on Clay Courts, the ranges of the number of aces is greater. So, some Clay Court matches could have 20 aces in a match while other Clay Court matches could have 2-3. On Carpet however, the range is much closer together and this is shown by calculating the CV."
   ]
  },
  {
   "cell_type": "markdown",
   "metadata": {},
   "source": [
    "### Who hits these aces?\n",
    "* It is clear to see that tennis athletes are getting bigger and stronger all the time. Just this year, Reilly Opelka, a 20 year old American has joined the professional circuit as the tallest player in history at 6'11\".\n",
    "* Tall players have a significant advantage when it comes to the serve. Their height means that they can more easily hit harder serves. A taller athlete is able to perform a serve more like a \"smash\" than a shorter athlete because of the higher point of impact."
   ]
  },
  {
   "cell_type": "code",
   "execution_count": 13,
   "metadata": {},
   "outputs": [
    {
     "data": {
      "text/plain": [
       "winner_ht\n",
       "160.0          NaN\n",
       "165.0          NaN\n",
       "168.0     1.173913\n",
       "170.0     2.875306\n",
       "173.0     2.917018\n",
       "175.0     3.870968\n",
       "178.0     3.083875\n",
       "180.0     4.151373\n",
       "183.0     4.368448\n",
       "185.0     6.520630\n",
       "188.0     5.499797\n",
       "190.0     7.187483\n",
       "193.0     8.952566\n",
       "196.0    11.127728\n",
       "198.0     9.664615\n",
       "201.0     9.655738\n",
       "203.0     7.857143\n",
       "208.0          NaN\n",
       "Name: w_ace, dtype: float64"
      ]
     },
     "execution_count": 13,
     "metadata": {},
     "output_type": "execute_result"
    }
   ],
   "source": [
    "atp_main['1990':'2000'].groupby(['winner_ht'])['w_ace'].mean()"
   ]
  },
  {
   "cell_type": "code",
   "execution_count": 14,
   "metadata": {},
   "outputs": [
    {
     "data": {
      "text/plain": [
       "winner_ht\n",
       "163.0     6.493827\n",
       "168.0     2.047619\n",
       "170.0     2.594203\n",
       "172.0     3.777778\n",
       "173.0     4.180000\n",
       "175.0     3.715529\n",
       "178.0     4.676670\n",
       "180.0     5.516364\n",
       "181.0     9.052632\n",
       "183.0     6.078277\n",
       "185.0     5.843217\n",
       "188.0     7.621471\n",
       "190.0     6.706685\n",
       "193.0     9.777552\n",
       "194.0     5.016393\n",
       "196.0    10.255622\n",
       "198.0     9.267593\n",
       "201.0    15.277778\n",
       "203.0    12.383901\n",
       "206.0    17.860714\n",
       "208.0    19.973282\n",
       "Name: w_ace, dtype: float64"
      ]
     },
     "execution_count": 14,
     "metadata": {},
     "output_type": "execute_result"
    }
   ],
   "source": [
    "atp_main['2005':'2015'].groupby(['winner_ht'])['w_ace'].mean()"
   ]
  },
  {
   "cell_type": "markdown",
   "metadata": {},
   "source": [
    "In both decades we see that taller players do in fact hit more aces."
   ]
  },
  {
   "cell_type": "markdown",
   "metadata": {},
   "source": [
    "Heights are also increasing as we can see a change of on average 1.5cm in 2 decades "
   ]
  },
  {
   "cell_type": "code",
   "execution_count": 15,
   "metadata": {},
   "outputs": [
    {
     "data": {
      "text/plain": [
       "184.74723143659097"
      ]
     },
     "execution_count": 15,
     "metadata": {},
     "output_type": "execute_result"
    }
   ],
   "source": [
    "atp_main['1990':'2000'].winner_ht.mean()"
   ]
  },
  {
   "cell_type": "code",
   "execution_count": 16,
   "metadata": {},
   "outputs": [
    {
     "data": {
      "text/plain": [
       "186.05774692331966"
      ]
     },
     "execution_count": 16,
     "metadata": {},
     "output_type": "execute_result"
    }
   ],
   "source": [
    "atp_main['2005':'2015'].winner_ht.mean()"
   ]
  },
  {
   "cell_type": "code",
   "execution_count": null,
   "metadata": {
    "collapsed": true
   },
   "outputs": [],
   "source": []
  }
 ],
 "metadata": {
  "kernelspec": {
   "display_name": "Python 3",
   "language": "python",
   "name": "python3"
  },
  "language_info": {
   "codemirror_mode": {
    "name": "ipython",
    "version": 3
   },
   "file_extension": ".py",
   "mimetype": "text/x-python",
   "name": "python",
   "nbconvert_exporter": "python",
   "pygments_lexer": "ipython3",
   "version": "3.6.3"
  }
 },
 "nbformat": 4,
 "nbformat_minor": 2
}
