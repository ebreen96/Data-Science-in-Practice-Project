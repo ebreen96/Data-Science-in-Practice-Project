{
 "cells": [
  {
   "cell_type": "markdown",
   "metadata": {},
   "source": [
    "# Prep 500"
   ]
  },
  {
   "cell_type": "markdown",
   "metadata": {},
   "source": [
    "## Purpose\n",
    "In this notebook we will begin our prep for research question 3 - 'Can we predict the next young Grand Slam winners?'. \n",
    "Primarily, we will focus on creating 2 dataframes one containing the top winners under 23 from 2014-2017 and their average match statistics and the other dataframe containing all previous Grand Slam winners from 1991-present and their match statisics from when they were under 23.\n",
    "\n",
    "## Datasets\n",
    "* _Input_: atp_main.csv, atp_df.csv\n",
    "* _Output_: GrandSlamWinners.csv, Under23_14_17.csv\n"
   ]
  },
  {
   "cell_type": "code",
   "execution_count": 1,
   "metadata": {
    "collapsed": true
   },
   "outputs": [],
   "source": [
    "#importing relevant libraries\n",
    "import os\n",
    "import sys\n",
    "import hashlib\n",
    "import numpy as np\n",
    "import pandas as pd\n",
    "from datetime import datetime\n",
    "import matplotlib.pyplot as plt\n",
    " \n",
    "%matplotlib inline"
   ]
  },
  {
   "cell_type": "code",
   "execution_count": 2,
   "metadata": {
    "collapsed": true
   },
   "outputs": [],
   "source": [
    "atp_main = pd.read_csv(\"../data/atp_main\", low_memory = False)"
   ]
  },
  {
   "cell_type": "markdown",
   "metadata": {},
   "source": [
    "## Grand Slam winner 1991 - present"
   ]
  },
  {
   "cell_type": "markdown",
   "metadata": {},
   "source": [
    "Creating dataframe only containg from the years 1991 -present. We chose 1991 as the match statistics only start to be filled in in our dataset from 1991 to present."
   ]
  },
  {
   "cell_type": "code",
   "execution_count": 3,
   "metadata": {
    "collapsed": true
   },
   "outputs": [],
   "source": [
    "atp_1990 = atp_main.loc[atp_main['match_year'] > 1990]"
   ]
  },
  {
   "cell_type": "code",
   "execution_count": 4,
   "metadata": {
    "collapsed": true
   },
   "outputs": [],
   "source": [
    "atp_1990.to_csv('../data/atp_1990', index = False, encoding='utf-8')"
   ]
  },
  {
   "cell_type": "code",
   "execution_count": 5,
   "metadata": {
    "collapsed": true
   },
   "outputs": [],
   "source": [
    "atp_df_1990 = pd.read_csv(\"../data/atp_1990\", low_memory = False)"
   ]
  },
  {
   "cell_type": "code",
   "execution_count": 6,
   "metadata": {},
   "outputs": [
    {
     "data": {
      "text/html": [
       "<div>\n",
       "<style>\n",
       "    .dataframe thead tr:only-child th {\n",
       "        text-align: right;\n",
       "    }\n",
       "\n",
       "    .dataframe thead th {\n",
       "        text-align: left;\n",
       "    }\n",
       "\n",
       "    .dataframe tbody tr th {\n",
       "        vertical-align: top;\n",
       "    }\n",
       "</style>\n",
       "<table border=\"1\" class=\"dataframe\">\n",
       "  <thead>\n",
       "    <tr style=\"text-align: right;\">\n",
       "      <th></th>\n",
       "      <th>winner_name</th>\n",
       "      <th>winner_age</th>\n",
       "      <th>w_ace</th>\n",
       "      <th>w_df</th>\n",
       "      <th>w_svpt</th>\n",
       "      <th>w_1stIn</th>\n",
       "      <th>w_1stWon</th>\n",
       "      <th>w_2ndWon</th>\n",
       "      <th>w_SvGms</th>\n",
       "      <th>w_bpSaved</th>\n",
       "      <th>w_bpFaced</th>\n",
       "    </tr>\n",
       "  </thead>\n",
       "  <tbody>\n",
       "    <tr>\n",
       "      <th>0</th>\n",
       "      <td>Aaron Krickstein</td>\n",
       "      <td>23.0</td>\n",
       "      <td>4.750000</td>\n",
       "      <td>2.000000</td>\n",
       "      <td>98.250000</td>\n",
       "      <td>59.250000</td>\n",
       "      <td>42.000000</td>\n",
       "      <td>21.000000</td>\n",
       "      <td>15.750000</td>\n",
       "      <td>4.750000</td>\n",
       "      <td>8.000000</td>\n",
       "    </tr>\n",
       "    <tr>\n",
       "      <th>1</th>\n",
       "      <td>Aaron Krickstein</td>\n",
       "      <td>24.0</td>\n",
       "      <td>5.035714</td>\n",
       "      <td>2.357143</td>\n",
       "      <td>88.678571</td>\n",
       "      <td>51.357143</td>\n",
       "      <td>37.642857</td>\n",
       "      <td>20.785714</td>\n",
       "      <td>13.821429</td>\n",
       "      <td>4.392857</td>\n",
       "      <td>6.607143</td>\n",
       "    </tr>\n",
       "    <tr>\n",
       "      <th>2</th>\n",
       "      <td>Aaron Krickstein</td>\n",
       "      <td>25.0</td>\n",
       "      <td>3.461538</td>\n",
       "      <td>1.269231</td>\n",
       "      <td>67.730769</td>\n",
       "      <td>38.000000</td>\n",
       "      <td>27.730769</td>\n",
       "      <td>16.923077</td>\n",
       "      <td>10.961538</td>\n",
       "      <td>3.153846</td>\n",
       "      <td>5.076923</td>\n",
       "    </tr>\n",
       "    <tr>\n",
       "      <th>3</th>\n",
       "      <td>Aaron Krickstein</td>\n",
       "      <td>26.0</td>\n",
       "      <td>5.033333</td>\n",
       "      <td>2.033333</td>\n",
       "      <td>85.366667</td>\n",
       "      <td>50.300000</td>\n",
       "      <td>36.200000</td>\n",
       "      <td>18.866667</td>\n",
       "      <td>12.766667</td>\n",
       "      <td>5.300000</td>\n",
       "      <td>7.666667</td>\n",
       "    </tr>\n",
       "    <tr>\n",
       "      <th>4</th>\n",
       "      <td>Aaron Krickstein</td>\n",
       "      <td>27.0</td>\n",
       "      <td>5.843750</td>\n",
       "      <td>1.875000</td>\n",
       "      <td>90.000000</td>\n",
       "      <td>54.312500</td>\n",
       "      <td>39.562500</td>\n",
       "      <td>20.031250</td>\n",
       "      <td>13.500000</td>\n",
       "      <td>3.562500</td>\n",
       "      <td>5.562500</td>\n",
       "    </tr>\n",
       "  </tbody>\n",
       "</table>\n",
       "</div>"
      ],
      "text/plain": [
       "        winner_name  winner_age     w_ace      w_df     w_svpt    w_1stIn  \\\n",
       "0  Aaron Krickstein        23.0  4.750000  2.000000  98.250000  59.250000   \n",
       "1  Aaron Krickstein        24.0  5.035714  2.357143  88.678571  51.357143   \n",
       "2  Aaron Krickstein        25.0  3.461538  1.269231  67.730769  38.000000   \n",
       "3  Aaron Krickstein        26.0  5.033333  2.033333  85.366667  50.300000   \n",
       "4  Aaron Krickstein        27.0  5.843750  1.875000  90.000000  54.312500   \n",
       "\n",
       "    w_1stWon   w_2ndWon    w_SvGms  w_bpSaved  w_bpFaced  \n",
       "0  42.000000  21.000000  15.750000   4.750000   8.000000  \n",
       "1  37.642857  20.785714  13.821429   4.392857   6.607143  \n",
       "2  27.730769  16.923077  10.961538   3.153846   5.076923  \n",
       "3  36.200000  18.866667  12.766667   5.300000   7.666667  \n",
       "4  39.562500  20.031250  13.500000   3.562500   5.562500  "
      ]
     },
     "execution_count": 6,
     "metadata": {},
     "output_type": "execute_result"
    }
   ],
   "source": [
    "#grouping by winner name and winner age and getting mean of everything else in the df\n",
    "winner_stats = atp_df_1990.groupby(['winner_name', 'winner_age']).mean()\n",
    "#only using averaged columns 16-25\n",
    "winner_stats = winner_stats.iloc[:,16:25].reset_index()\n",
    "winner_stats.head()"
   ]
  },
  {
   "cell_type": "code",
   "execution_count": 7,
   "metadata": {
    "collapsed": true
   },
   "outputs": [],
   "source": [
    "#winners under 24 years of age\n",
    "winner_23under = winner_stats.loc[winner_stats['winner_age'] < 24]"
   ]
  },
  {
   "cell_type": "code",
   "execution_count": 8,
   "metadata": {},
   "outputs": [
    {
     "data": {
      "text/html": [
       "<div>\n",
       "<style>\n",
       "    .dataframe thead tr:only-child th {\n",
       "        text-align: right;\n",
       "    }\n",
       "\n",
       "    .dataframe thead th {\n",
       "        text-align: left;\n",
       "    }\n",
       "\n",
       "    .dataframe tbody tr th {\n",
       "        vertical-align: top;\n",
       "    }\n",
       "</style>\n",
       "<table border=\"1\" class=\"dataframe\">\n",
       "  <thead>\n",
       "    <tr style=\"text-align: right;\">\n",
       "      <th></th>\n",
       "      <th>winner_name</th>\n",
       "      <th>winner_age</th>\n",
       "      <th>w_ace</th>\n",
       "      <th>w_df</th>\n",
       "      <th>w_svpt</th>\n",
       "      <th>w_1stIn</th>\n",
       "      <th>w_1stWon</th>\n",
       "      <th>w_2ndWon</th>\n",
       "      <th>w_SvGms</th>\n",
       "      <th>w_bpSaved</th>\n",
       "      <th>w_bpFaced</th>\n",
       "    </tr>\n",
       "  </thead>\n",
       "  <tbody>\n",
       "    <tr>\n",
       "      <th>0</th>\n",
       "      <td>Aaron Krickstein</td>\n",
       "      <td>23.000000</td>\n",
       "      <td>4.75</td>\n",
       "      <td>2.0</td>\n",
       "      <td>98.25</td>\n",
       "      <td>59.25</td>\n",
       "      <td>42.0</td>\n",
       "      <td>21.0</td>\n",
       "      <td>15.75</td>\n",
       "      <td>4.75</td>\n",
       "      <td>8.0</td>\n",
       "    </tr>\n",
       "    <tr>\n",
       "      <th>1</th>\n",
       "      <td>Abdelhak Hameurlaine</td>\n",
       "      <td>20.000000</td>\n",
       "      <td>NaN</td>\n",
       "      <td>NaN</td>\n",
       "      <td>NaN</td>\n",
       "      <td>NaN</td>\n",
       "      <td>NaN</td>\n",
       "      <td>NaN</td>\n",
       "      <td>NaN</td>\n",
       "      <td>NaN</td>\n",
       "      <td>NaN</td>\n",
       "    </tr>\n",
       "    <tr>\n",
       "      <th>2</th>\n",
       "      <td>Abdullah Maqdas</td>\n",
       "      <td>19.333333</td>\n",
       "      <td>NaN</td>\n",
       "      <td>NaN</td>\n",
       "      <td>NaN</td>\n",
       "      <td>NaN</td>\n",
       "      <td>NaN</td>\n",
       "      <td>NaN</td>\n",
       "      <td>NaN</td>\n",
       "      <td>NaN</td>\n",
       "      <td>NaN</td>\n",
       "    </tr>\n",
       "    <tr>\n",
       "      <th>3</th>\n",
       "      <td>Adam Chadaj</td>\n",
       "      <td>21.000000</td>\n",
       "      <td>1.00</td>\n",
       "      <td>5.0</td>\n",
       "      <td>89.00</td>\n",
       "      <td>53.00</td>\n",
       "      <td>37.0</td>\n",
       "      <td>16.0</td>\n",
       "      <td>14.00</td>\n",
       "      <td>6.00</td>\n",
       "      <td>9.0</td>\n",
       "    </tr>\n",
       "    <tr>\n",
       "      <th>4</th>\n",
       "      <td>Adam Kellner</td>\n",
       "      <td>22.000000</td>\n",
       "      <td>NaN</td>\n",
       "      <td>NaN</td>\n",
       "      <td>NaN</td>\n",
       "      <td>NaN</td>\n",
       "      <td>NaN</td>\n",
       "      <td>NaN</td>\n",
       "      <td>NaN</td>\n",
       "      <td>NaN</td>\n",
       "      <td>NaN</td>\n",
       "    </tr>\n",
       "  </tbody>\n",
       "</table>\n",
       "</div>"
      ],
      "text/plain": [
       "            winner_name  winner_age  w_ace  w_df  w_svpt  w_1stIn  w_1stWon  \\\n",
       "0      Aaron Krickstein   23.000000   4.75   2.0   98.25    59.25      42.0   \n",
       "1  Abdelhak Hameurlaine   20.000000    NaN   NaN     NaN      NaN       NaN   \n",
       "2       Abdullah Maqdas   19.333333    NaN   NaN     NaN      NaN       NaN   \n",
       "3           Adam Chadaj   21.000000   1.00   5.0   89.00    53.00      37.0   \n",
       "4          Adam Kellner   22.000000    NaN   NaN     NaN      NaN       NaN   \n",
       "\n",
       "   w_2ndWon  w_SvGms  w_bpSaved  w_bpFaced  \n",
       "0      21.0    15.75       4.75        8.0  \n",
       "1       NaN      NaN        NaN        NaN  \n",
       "2       NaN      NaN        NaN        NaN  \n",
       "3      16.0    14.00       6.00        9.0  \n",
       "4       NaN      NaN        NaN        NaN  "
      ]
     },
     "execution_count": 8,
     "metadata": {},
     "output_type": "execute_result"
    }
   ],
   "source": [
    "#Getting average of each player by grouping winner name. Before we had average of each player each time they played \n",
    "#at a certain age\n",
    "winner_23 = winner_23under.groupby(['winner_name']).mean().reset_index()\n",
    "winner_23.head()"
   ]
  },
  {
   "cell_type": "code",
   "execution_count": 9,
   "metadata": {
    "collapsed": true
   },
   "outputs": [],
   "source": [
    "#Reading in list of all previous players who have won a Grand Slam from 1991 - present\n",
    "list = ['Boris Becker', 'Jim Courier', 'Michael Stich', 'Stefan Edberg', 'Andre Agassi', 'Sergi Bruguera', 'Pete Sampras', \n",
    "       'Thomas Muster', 'Yevgeny Kafelnikov', 'Richard Krajicek', 'Gustavo Kuerten', 'Patrick Rafter', 'Petr Korda',\n",
    "       'Carlos Moya', 'Marat Safin', 'Goran Ivanisvic', 'Lleyton Hewitt', 'Thomas Johansson', 'Albert Costa', \n",
    "        'Juan Carlos Ferrero', 'Roger Federer', 'Gastón Gaudio', 'Rafael Nadal', 'Novak Djokovic', 'Juan Martín del Potro',\n",
    "       'Andy Murray', 'Stan Wawrinka', 'Marin Čilić']"
   ]
  },
  {
   "cell_type": "code",
   "execution_count": 10,
   "metadata": {
    "collapsed": true
   },
   "outputs": [],
   "source": [
    "#Checking if names in the list appear in dataframe\n",
    "NamePositions = winner_23.isin(list)"
   ]
  },
  {
   "cell_type": "code",
   "execution_count": 11,
   "metadata": {
    "scrolled": true
   },
   "outputs": [
    {
     "data": {
      "text/html": [
       "<div>\n",
       "<style>\n",
       "    .dataframe thead tr:only-child th {\n",
       "        text-align: right;\n",
       "    }\n",
       "\n",
       "    .dataframe thead th {\n",
       "        text-align: left;\n",
       "    }\n",
       "\n",
       "    .dataframe tbody tr th {\n",
       "        vertical-align: top;\n",
       "    }\n",
       "</style>\n",
       "<table border=\"1\" class=\"dataframe\">\n",
       "  <thead>\n",
       "    <tr style=\"text-align: right;\">\n",
       "      <th></th>\n",
       "      <th>winner_name</th>\n",
       "      <th>winner_age</th>\n",
       "      <th>w_ace</th>\n",
       "      <th>w_df</th>\n",
       "      <th>w_svpt</th>\n",
       "      <th>w_1stIn</th>\n",
       "      <th>w_1stWon</th>\n",
       "      <th>w_2ndWon</th>\n",
       "      <th>w_SvGms</th>\n",
       "      <th>w_bpSaved</th>\n",
       "      <th>w_bpFaced</th>\n",
       "    </tr>\n",
       "  </thead>\n",
       "  <tbody>\n",
       "    <tr>\n",
       "      <th>17</th>\n",
       "      <td>True</td>\n",
       "      <td>False</td>\n",
       "      <td>False</td>\n",
       "      <td>False</td>\n",
       "      <td>False</td>\n",
       "      <td>False</td>\n",
       "      <td>False</td>\n",
       "      <td>False</td>\n",
       "      <td>False</td>\n",
       "      <td>False</td>\n",
       "      <td>False</td>\n",
       "    </tr>\n",
       "    <tr>\n",
       "      <th>74</th>\n",
       "      <td>True</td>\n",
       "      <td>False</td>\n",
       "      <td>False</td>\n",
       "      <td>False</td>\n",
       "      <td>False</td>\n",
       "      <td>False</td>\n",
       "      <td>False</td>\n",
       "      <td>False</td>\n",
       "      <td>False</td>\n",
       "      <td>False</td>\n",
       "      <td>False</td>\n",
       "    </tr>\n",
       "    <tr>\n",
       "      <th>102</th>\n",
       "      <td>True</td>\n",
       "      <td>False</td>\n",
       "      <td>False</td>\n",
       "      <td>False</td>\n",
       "      <td>False</td>\n",
       "      <td>False</td>\n",
       "      <td>False</td>\n",
       "      <td>False</td>\n",
       "      <td>False</td>\n",
       "      <td>False</td>\n",
       "      <td>False</td>\n",
       "    </tr>\n",
       "    <tr>\n",
       "      <th>162</th>\n",
       "      <td>True</td>\n",
       "      <td>False</td>\n",
       "      <td>False</td>\n",
       "      <td>False</td>\n",
       "      <td>False</td>\n",
       "      <td>False</td>\n",
       "      <td>False</td>\n",
       "      <td>False</td>\n",
       "      <td>False</td>\n",
       "      <td>False</td>\n",
       "      <td>False</td>\n",
       "    </tr>\n",
       "    <tr>\n",
       "      <th>195</th>\n",
       "      <td>True</td>\n",
       "      <td>False</td>\n",
       "      <td>False</td>\n",
       "      <td>False</td>\n",
       "      <td>False</td>\n",
       "      <td>False</td>\n",
       "      <td>False</td>\n",
       "      <td>False</td>\n",
       "      <td>False</td>\n",
       "      <td>False</td>\n",
       "      <td>False</td>\n",
       "    </tr>\n",
       "  </tbody>\n",
       "</table>\n",
       "</div>"
      ],
      "text/plain": [
       "     winner_name  winner_age  w_ace   w_df  w_svpt  w_1stIn  w_1stWon  \\\n",
       "17          True       False  False  False   False    False     False   \n",
       "74          True       False  False  False   False    False     False   \n",
       "102         True       False  False  False   False    False     False   \n",
       "162         True       False  False  False   False    False     False   \n",
       "195         True       False  False  False   False    False     False   \n",
       "\n",
       "     w_2ndWon  w_SvGms  w_bpSaved  w_bpFaced  \n",
       "17      False    False      False      False  \n",
       "74      False    False      False      False  \n",
       "102     False    False      False      False  \n",
       "162     False    False      False      False  \n",
       "195     False    False      False      False  "
      ]
     },
     "execution_count": 11,
     "metadata": {},
     "output_type": "execute_result"
    }
   ],
   "source": [
    "#Showing indexes where a name in the list appears in the dataframe\n",
    "NamePositions[NamePositions.winner_name].head()"
   ]
  },
  {
   "cell_type": "code",
   "execution_count": 12,
   "metadata": {
    "collapsed": true
   },
   "outputs": [],
   "source": [
    "#Creating dataframe from the given indexes above\n",
    "grandSlam = winner_23.loc[[19,81,112,177,212,495,639,707,804,843,952,1036,1073,1090,1099,1128,1159,\n",
    "                           1181,1243,1314,1317,1408]].reset_index()"
   ]
  },
  {
   "cell_type": "code",
   "execution_count": 13,
   "metadata": {
    "collapsed": true
   },
   "outputs": [],
   "source": [
    "#reseting index column\n",
    "gs = grandSlam.drop('index', axis = 1)"
   ]
  },
  {
   "cell_type": "code",
   "execution_count": 14,
   "metadata": {},
   "outputs": [
    {
     "data": {
      "text/html": [
       "<div>\n",
       "<style>\n",
       "    .dataframe thead tr:only-child th {\n",
       "        text-align: right;\n",
       "    }\n",
       "\n",
       "    .dataframe thead th {\n",
       "        text-align: left;\n",
       "    }\n",
       "\n",
       "    .dataframe tbody tr th {\n",
       "        vertical-align: top;\n",
       "    }\n",
       "</style>\n",
       "<table border=\"1\" class=\"dataframe\">\n",
       "  <thead>\n",
       "    <tr style=\"text-align: right;\">\n",
       "      <th></th>\n",
       "      <th>winner_name</th>\n",
       "      <th>w_ace</th>\n",
       "      <th>w_df</th>\n",
       "      <th>w_svpt</th>\n",
       "      <th>w_1stIn</th>\n",
       "      <th>w_1stWon</th>\n",
       "      <th>w_2ndWon</th>\n",
       "      <th>w_SvGms</th>\n",
       "      <th>w_bpSaved</th>\n",
       "      <th>w_bpFaced</th>\n",
       "    </tr>\n",
       "  </thead>\n",
       "  <tbody>\n",
       "    <tr>\n",
       "      <th>0</th>\n",
       "      <td>Albert Portas</td>\n",
       "      <td>1.180556</td>\n",
       "      <td>1.277778</td>\n",
       "      <td>69.930556</td>\n",
       "      <td>47.680556</td>\n",
       "      <td>30.763889</td>\n",
       "      <td>12.958333</td>\n",
       "      <td>10.027778</td>\n",
       "      <td>4.500000</td>\n",
       "      <td>6.250000</td>\n",
       "    </tr>\n",
       "    <tr>\n",
       "      <th>1</th>\n",
       "      <td>Andreas Vinciguerra</td>\n",
       "      <td>4.610427</td>\n",
       "      <td>2.844558</td>\n",
       "      <td>84.466325</td>\n",
       "      <td>51.211937</td>\n",
       "      <td>38.706068</td>\n",
       "      <td>17.272821</td>\n",
       "      <td>13.397806</td>\n",
       "      <td>4.318319</td>\n",
       "      <td>6.430142</td>\n",
       "    </tr>\n",
       "    <tr>\n",
       "      <th>2</th>\n",
       "      <td>Aqeel Khan</td>\n",
       "      <td>NaN</td>\n",
       "      <td>NaN</td>\n",
       "      <td>NaN</td>\n",
       "      <td>NaN</td>\n",
       "      <td>NaN</td>\n",
       "      <td>NaN</td>\n",
       "      <td>NaN</td>\n",
       "      <td>NaN</td>\n",
       "      <td>NaN</td>\n",
       "    </tr>\n",
       "    <tr>\n",
       "      <th>3</th>\n",
       "      <td>Bruno Abdel Nour</td>\n",
       "      <td>NaN</td>\n",
       "      <td>NaN</td>\n",
       "      <td>NaN</td>\n",
       "      <td>NaN</td>\n",
       "      <td>NaN</td>\n",
       "      <td>NaN</td>\n",
       "      <td>NaN</td>\n",
       "      <td>NaN</td>\n",
       "      <td>NaN</td>\n",
       "    </tr>\n",
       "    <tr>\n",
       "      <th>4</th>\n",
       "      <td>Chris Guccione</td>\n",
       "      <td>15.823810</td>\n",
       "      <td>2.935714</td>\n",
       "      <td>79.882143</td>\n",
       "      <td>46.804762</td>\n",
       "      <td>39.197619</td>\n",
       "      <td>18.913095</td>\n",
       "      <td>13.282143</td>\n",
       "      <td>2.857143</td>\n",
       "      <td>3.684524</td>\n",
       "    </tr>\n",
       "  </tbody>\n",
       "</table>\n",
       "</div>"
      ],
      "text/plain": [
       "           winner_name      w_ace      w_df     w_svpt    w_1stIn   w_1stWon  \\\n",
       "0        Albert Portas   1.180556  1.277778  69.930556  47.680556  30.763889   \n",
       "1  Andreas Vinciguerra   4.610427  2.844558  84.466325  51.211937  38.706068   \n",
       "2           Aqeel Khan        NaN       NaN        NaN        NaN        NaN   \n",
       "3     Bruno Abdel Nour        NaN       NaN        NaN        NaN        NaN   \n",
       "4       Chris Guccione  15.823810  2.935714  79.882143  46.804762  39.197619   \n",
       "\n",
       "    w_2ndWon    w_SvGms  w_bpSaved  w_bpFaced  \n",
       "0  12.958333  10.027778   4.500000   6.250000  \n",
       "1  17.272821  13.397806   4.318319   6.430142  \n",
       "2        NaN        NaN        NaN        NaN  \n",
       "3        NaN        NaN        NaN        NaN  \n",
       "4  18.913095  13.282143   2.857143   3.684524  "
      ]
     },
     "execution_count": 14,
     "metadata": {},
     "output_type": "execute_result"
    }
   ],
   "source": [
    "#Dropping the winner age column\n",
    "GrandSlamWinners = gs.drop('winner_age', axis=1)\n",
    "GrandSlamWinners.head()"
   ]
  },
  {
   "cell_type": "code",
   "execution_count": 15,
   "metadata": {
    "collapsed": true
   },
   "outputs": [],
   "source": [
    "GrandSlamWinners.to_csv('../data/GrandSlamWinners', index = False, encoding='utf-8')"
   ]
  },
  {
   "cell_type": "markdown",
   "metadata": {},
   "source": [
    "## Under 23 players 2014 - 2017"
   ]
  },
  {
   "cell_type": "code",
   "execution_count": 16,
   "metadata": {
    "collapsed": true
   },
   "outputs": [],
   "source": [
    "Winner_under23 = atp_1990.loc[atp_1990['winner_age'] < 23]"
   ]
  },
  {
   "cell_type": "code",
   "execution_count": 17,
   "metadata": {
    "collapsed": true
   },
   "outputs": [],
   "source": [
    "Winner_under23.to_csv('../data/Winner_under23', index = False, encoding='utf-8')"
   ]
  },
  {
   "cell_type": "code",
   "execution_count": 18,
   "metadata": {
    "collapsed": true
   },
   "outputs": [],
   "source": [
    "Winner_und23 = pd.read_csv(\"../data/Winner_under23\", low_memory = False)"
   ]
  },
  {
   "cell_type": "code",
   "execution_count": 19,
   "metadata": {
    "collapsed": true
   },
   "outputs": [],
   "source": [
    "#Cutting the dataframe to show winners under 23 from 2014 forward\n",
    "Winners_2014_23 = Winner_und23.loc[Winner_und23['match_year'] > 2013]"
   ]
  },
  {
   "cell_type": "code",
   "execution_count": 20,
   "metadata": {
    "collapsed": true
   },
   "outputs": [],
   "source": [
    "#Getting the mean accross the dataframe by grouping by winner name\n",
    "Under23_14_17 = Winners_2014_23.groupby(['winner_name']).mean()\n",
    "#only using wining stats columns 17-26\n",
    "Under23_14_17 = Under23_14_17.iloc[:,17:26].reset_index()"
   ]
  },
  {
   "cell_type": "code",
   "execution_count": 21,
   "metadata": {
    "collapsed": true
   },
   "outputs": [],
   "source": [
    "Under23_14_17.to_csv('../data/Under23_14_17', index = False, encoding='utf-8')"
   ]
  },
  {
   "cell_type": "code",
   "execution_count": null,
   "metadata": {
    "collapsed": true
   },
   "outputs": [],
   "source": []
  }
 ],
 "metadata": {
  "kernelspec": {
   "display_name": "Python 3",
   "language": "python",
   "name": "python3"
  },
  "language_info": {
   "codemirror_mode": {
    "name": "ipython",
    "version": 3
   },
   "file_extension": ".py",
   "mimetype": "text/x-python",
   "name": "python",
   "nbconvert_exporter": "python",
   "pygments_lexer": "ipython3",
   "version": "3.6.3"
  }
 },
 "nbformat": 4,
 "nbformat_minor": 2
}
